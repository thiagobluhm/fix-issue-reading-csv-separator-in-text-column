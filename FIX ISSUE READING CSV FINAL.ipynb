{
 "cells": [
  {
   "cell_type": "code",
   "execution_count": 3,
   "id": "ea8b8391",
   "metadata": {
    "ExecuteTime": {
     "end_time": "2023-06-29T00:51:06.390046Z",
     "start_time": "2023-06-29T00:51:05.032135Z"
    }
   },
   "outputs": [],
   "source": [
    "import pandas as pd\n",
    "import os\n",
    "\n",
    "os.chdir(r\"C:\\seudiretorio\\path ate sua pasta de *****\\dados\")"
   ]
  },
  {
   "cell_type": "code",
   "execution_count": 4,
   "id": "c36706c0",
   "metadata": {
    "ExecuteTime": {
     "end_time": "2023-06-29T00:51:08.540075Z",
     "start_time": "2023-06-29T00:51:07.462184Z"
    }
   },
   "outputs": [],
   "source": [
    "df = pd.read_csv(\"nomedoarquivo.txt\", encoding=\"latin1\", skiprows=1, sep=\"\\t\", engine=\"python\", on_bad_lines='skip')"
   ]
  },
  {
   "cell_type": "code",
   "execution_count": 6,
   "id": "67e6b952",
   "metadata": {
    "ExecuteTime": {
     "end_time": "2023-06-29T00:51:21.336377Z",
     "start_time": "2023-06-29T00:51:21.322871Z"
    }
   },
   "outputs": [
    {
     "data": {
      "text/html": [
       "<div>\n",
       "<style scoped>\n",
       "    .dataframe tbody tr th:only-of-type {\n",
       "        vertical-align: middle;\n",
       "    }\n",
       "\n",
       "    .dataframe tbody tr th {\n",
       "        vertical-align: top;\n",
       "    }\n",
       "\n",
       "    .dataframe thead th {\n",
       "        text-align: right;\n",
       "    }\n",
       "</style>\n",
       "<table border=\"1\" class=\"dataframe\">\n",
       "  <thead>\n",
       "    <tr style=\"text-align: right;\">\n",
       "      <th></th>\n",
       "      <th>ID_GESTION_ATENCION;SOLICITUD_ATENCION;NRO_ATENCION;ID_PERSONA;FECHA_ATENCION;ID_SUBSEDE;ID_ATENCION_PREFERENCIAL;ID_SOLICITUD;COMENTARIO;ID_ESTADO;ID_TIPO_CATEGORIA_ATENCION;OTRA_CATEGORIA_ATENCION;NOMBRE_MODULO</th>\n",
       "    </tr>\n",
       "  </thead>\n",
       "  <tbody>\n",
       "    <tr>\n",
       "      <th>0</th>\n",
       "      <td>28457;Turno;ED550;10;20-04-2023 17:44:19;2;;;E...</td>\n",
       "    </tr>\n",
       "    <tr>\n",
       "      <th>1</th>\n",
       "      <td>28458;Turno;ED551;10;20-04-2023 17:44:19;2;;;E...</td>\n",
       "    </tr>\n",
       "    <tr>\n",
       "      <th>2</th>\n",
       "      <td>28459;Turno;ED552;10;20-04-2023 17:44:19;2;;;E...</td>\n",
       "    </tr>\n",
       "  </tbody>\n",
       "</table>\n",
       "</div>"
      ],
      "text/plain": [
       "  ID_GESTION_ATENCION;SOLICITUD_ATENCION;NRO_ATENCION;ID_PERSONA;FECHA_ATENCION;ID_SUBSEDE;ID_ATENCION_PREFERENCIAL;ID_SOLICITUD;COMENTARIO;ID_ESTADO;ID_TIPO_CATEGORIA_ATENCION;OTRA_CATEGORIA_ATENCION;NOMBRE_MODULO\n",
       "0  28457;Turno;ED550;10;20-04-2023 17:44:19;2;;;E...                                                                                                                                                                  \n",
       "1  28458;Turno;ED551;10;20-04-2023 17:44:19;2;;;E...                                                                                                                                                                  \n",
       "2  28459;Turno;ED552;10;20-04-2023 17:44:19;2;;;E...                                                                                                                                                                  "
      ]
     },
     "execution_count": 6,
     "metadata": {},
     "output_type": "execute_result"
    }
   ],
   "source": [
    "df.head(3)"
   ]
  },
  {
   "cell_type": "code",
   "execution_count": 7,
   "id": "0574bb50",
   "metadata": {
    "ExecuteTime": {
     "end_time": "2023-06-29T00:51:44.627676Z",
     "start_time": "2023-06-29T00:51:24.427296Z"
    }
   },
   "outputs": [],
   "source": [
    "lista = []\n",
    "for x in range(len(df)):\n",
    "    # o indice 9 se o tamanho lido for maior que o tam_ideal é onde comeca a anomalia\n",
    "    ind_registro = 9 \n",
    "    # para o arquivo lido o tam de colunas é 13\n",
    "    tam_ideal = 13\n",
    "    # aqui eu tenho quantas colunas foram lidas na real\n",
    "    tam_lido = len(df.iloc[x].values[0].split(\";\"))\n",
    "    \n",
    "    # entao se o tamanho lido for maior que o ideal temos o problema\n",
    "    if tam_lido > tam_ideal:\n",
    "        #print(f\"Tamanho lido: {tam_lido}\")\n",
    "        # percebo qual o tamanho do problema aqui, se é 2, 3, 4 ... \n",
    "        diff = tam_lido - tam_ideal\n",
    "        \n",
    "        # pego o valor da minha como lista\n",
    "        linha = df.iloc[x].values[0].split(\";\")\n",
    "        \n",
    "        # faco um loop com o range da diferenca entre o tam_lido e o tam_ideal\n",
    "        for d in range(diff):\n",
    "            #print(f\"Indice do Pop: {ind_registro + d}\")            \n",
    "            # apago o indice da lista referente a leitura a partir do indice 9, pois o ideal é que a coluna \n",
    "            # comentario esteja no 8, entao apago do 9 quantas vezes for maior que o tam_ideal\n",
    "            linha.pop(ind_registro)        \n",
    "            \n",
    "            # registro a linha que vai para lista final\n",
    "            alinha = linha\n",
    "        #print(f\"Linha impressa: {alinha}\")\n",
    "        # apenso o valor a lista e done!\n",
    "        lista.append(alinha)\n",
    "    else:\n",
    "        b = df.iloc[x].values[0].split(\";\")\n",
    "        lista.append(b)   "
   ]
  },
  {
   "cell_type": "code",
   "execution_count": 10,
   "id": "7bb551e9",
   "metadata": {
    "ExecuteTime": {
     "end_time": "2023-06-29T00:52:18.350994Z",
     "start_time": "2023-06-29T00:52:18.338721Z"
    }
   },
   "outputs": [
    {
     "name": "stdout",
     "output_type": "stream",
     "text": [
      "367522 1\n"
     ]
    }
   ],
   "source": [
    "print(len(df), len(df.columns))"
   ]
  },
  {
   "cell_type": "code",
   "execution_count": 11,
   "id": "0a3a84fe",
   "metadata": {
    "ExecuteTime": {
     "end_time": "2023-06-29T00:52:39.701746Z",
     "start_time": "2023-06-29T00:52:39.510436Z"
    }
   },
   "outputs": [
    {
     "data": {
      "text/html": [
       "<div>\n",
       "<style scoped>\n",
       "    .dataframe tbody tr th:only-of-type {\n",
       "        vertical-align: middle;\n",
       "    }\n",
       "\n",
       "    .dataframe tbody tr th {\n",
       "        vertical-align: top;\n",
       "    }\n",
       "\n",
       "    .dataframe thead th {\n",
       "        text-align: right;\n",
       "    }\n",
       "</style>\n",
       "<table border=\"1\" class=\"dataframe\">\n",
       "  <thead>\n",
       "    <tr style=\"text-align: right;\">\n",
       "      <th></th>\n",
       "      <th>ID_GESTION_ATENCION</th>\n",
       "      <th>SOLICITUD_ATENCION</th>\n",
       "      <th>NRO_ATENCION</th>\n",
       "      <th>ID_PERSONA</th>\n",
       "      <th>FECHA_ATENCION</th>\n",
       "      <th>ID_SUBSEDE</th>\n",
       "      <th>ID_ATENCION_PREFERENCIAL</th>\n",
       "      <th>ID_SOLICITUD</th>\n",
       "      <th>COMENTARIO</th>\n",
       "      <th>ID_ESTADO</th>\n",
       "      <th>ID_TIPO_CATEGORIA_ATENCION</th>\n",
       "      <th>OTRA_CATEGORIA_ATENCION</th>\n",
       "      <th>NOMBRE_MODULO</th>\n",
       "    </tr>\n",
       "  </thead>\n",
       "  <tbody>\n",
       "    <tr>\n",
       "      <th>138233</th>\n",
       "      <td>191061</td>\n",
       "      <td>Turno</td>\n",
       "      <td>DH550</td>\n",
       "      <td>10</td>\n",
       "      <td>08-05-2023 17:21:20</td>\n",
       "      <td>3</td>\n",
       "      <td></td>\n",
       "      <td></td>\n",
       "      <td>Este turno fue creado por el proceso de Atenci...</td>\n",
       "      <td>7</td>\n",
       "      <td></td>\n",
       "      <td></td>\n",
       "      <td>Gestão de Atendimento</td>\n",
       "    </tr>\n",
       "    <tr>\n",
       "      <th>255592</th>\n",
       "      <td>230716</td>\n",
       "      <td>Turno</td>\n",
       "      <td>ED247</td>\n",
       "      <td>10</td>\n",
       "      <td>11-05-2023 13:20:29</td>\n",
       "      <td>4</td>\n",
       "      <td></td>\n",
       "      <td></td>\n",
       "      <td>Retornar em Lote de 2a ViaMarcos Thiago Souza ...</td>\n",
       "      <td>7</td>\n",
       "      <td></td>\n",
       "      <td></td>\n",
       "      <td>Gestão de Atendimento</td>\n",
       "    </tr>\n",
       "    <tr>\n",
       "      <th>287178</th>\n",
       "      <td>301198</td>\n",
       "      <td>Turno</td>\n",
       "      <td>SB34</td>\n",
       "      <td>10</td>\n",
       "      <td>22-05-2023 12:23:25</td>\n",
       "      <td>4</td>\n",
       "      <td></td>\n",
       "      <td></td>\n",
       "      <td></td>\n",
       "      <td>7</td>\n",
       "      <td></td>\n",
       "      <td></td>\n",
       "      <td>Gestão de Atendimento</td>\n",
       "    </tr>\n",
       "    <tr>\n",
       "      <th>50934</th>\n",
       "      <td>59235</td>\n",
       "      <td>Turno</td>\n",
       "      <td>ED134</td>\n",
       "      <td>10</td>\n",
       "      <td>26-04-2023 11:01:41</td>\n",
       "      <td>4</td>\n",
       "      <td></td>\n",
       "      <td></td>\n",
       "      <td></td>\n",
       "      <td>7</td>\n",
       "      <td></td>\n",
       "      <td></td>\n",
       "      <td>Gestão de Atendimento</td>\n",
       "    </tr>\n",
       "    <tr>\n",
       "      <th>230079</th>\n",
       "      <td>224467</td>\n",
       "      <td>Turno</td>\n",
       "      <td>EH737</td>\n",
       "      <td>10</td>\n",
       "      <td>10-05-2023 17:20:28</td>\n",
       "      <td>2</td>\n",
       "      <td></td>\n",
       "      <td></td>\n",
       "      <td>Este turno fue creado por el proceso de Atenci...</td>\n",
       "      <td>7</td>\n",
       "      <td></td>\n",
       "      <td></td>\n",
       "      <td>Gestão de Atendimento</td>\n",
       "    </tr>\n",
       "  </tbody>\n",
       "</table>\n",
       "</div>"
      ],
      "text/plain": [
       "       ID_GESTION_ATENCION SOLICITUD_ATENCION NRO_ATENCION ID_PERSONA  \\\n",
       "138233              191061              Turno        DH550         10   \n",
       "255592              230716              Turno        ED247         10   \n",
       "287178              301198              Turno         SB34         10   \n",
       "50934                59235              Turno        ED134         10   \n",
       "230079              224467              Turno        EH737         10   \n",
       "\n",
       "             FECHA_ATENCION ID_SUBSEDE ID_ATENCION_PREFERENCIAL ID_SOLICITUD  \\\n",
       "138233  08-05-2023 17:21:20          3                                         \n",
       "255592  11-05-2023 13:20:29          4                                         \n",
       "287178  22-05-2023 12:23:25          4                                         \n",
       "50934   26-04-2023 11:01:41          4                                         \n",
       "230079  10-05-2023 17:20:28          2                                         \n",
       "\n",
       "                                               COMENTARIO ID_ESTADO  \\\n",
       "138233  Este turno fue creado por el proceso de Atenci...         7   \n",
       "255592  Retornar em Lote de 2a ViaMarcos Thiago Souza ...         7   \n",
       "287178                                                            7   \n",
       "50934                                                             7   \n",
       "230079  Este turno fue creado por el proceso de Atenci...         7   \n",
       "\n",
       "       ID_TIPO_CATEGORIA_ATENCION OTRA_CATEGORIA_ATENCION  \\\n",
       "138233                                                      \n",
       "255592                                                      \n",
       "287178                                                      \n",
       "50934                                                       \n",
       "230079                                                      \n",
       "\n",
       "                NOMBRE_MODULO  \n",
       "138233  Gestão de Atendimento  \n",
       "255592  Gestão de Atendimento  \n",
       "287178  Gestão de Atendimento  \n",
       "50934   Gestão de Atendimento  \n",
       "230079  Gestão de Atendimento  "
      ]
     },
     "execution_count": 11,
     "metadata": {},
     "output_type": "execute_result"
    }
   ],
   "source": [
    "dff = pd.DataFrame(lista, columns=[\"ID_GESTION_ATENCION\",\"SOLICITUD_ATENCION\",\"NRO_ATENCION\",\"ID_PERSONA\",\"FECHA_ATENCION\",\n",
    "                          \"ID_SUBSEDE\",\"ID_ATENCION_PREFERENCIAL\",\"ID_SOLICITUD\",\"COMENTARIO\",\"ID_ESTADO\",\n",
    "                          \"ID_TIPO_CATEGORIA_ATENCION\",\"OTRA_CATEGORIA_ATENCION\",\"NOMBRE_MODULO\"])\n",
    "dff.sample(5)"
   ]
  },
  {
   "cell_type": "code",
   "execution_count": 12,
   "id": "991651b5",
   "metadata": {
    "ExecuteTime": {
     "end_time": "2023-06-29T00:53:16.428991Z",
     "start_time": "2023-06-29T00:53:16.415731Z"
    }
   },
   "outputs": [
    {
     "name": "stdout",
     "output_type": "stream",
     "text": [
      "367522 13\n"
     ]
    }
   ],
   "source": [
    "print(len(dff), len(dff.columns))"
   ]
  },
  {
   "cell_type": "code",
   "execution_count": 13,
   "id": "2de1479e",
   "metadata": {
    "ExecuteTime": {
     "end_time": "2023-06-29T00:53:33.740360Z",
     "start_time": "2023-06-29T00:53:33.734765Z"
    }
   },
   "outputs": [],
   "source": [
    "#EOF"
   ]
  }
 ],
 "metadata": {
  "kernelspec": {
   "display_name": "PySpark (kernel)",
   "language": "python",
   "name": "pyspark"
  },
  "language_info": {
   "codemirror_mode": {
    "name": "ipython",
    "version": 3
   },
   "file_extension": ".py",
   "mimetype": "text/x-python",
   "name": "python",
   "nbconvert_exporter": "python",
   "pygments_lexer": "ipython3",
   "version": "3.9.13"
  },
  "toc": {
   "base_numbering": 1,
   "nav_menu": {},
   "number_sections": true,
   "sideBar": false,
   "skip_h1_title": false,
   "title_cell": "Table of Contents",
   "title_sidebar": "Contents",
   "toc_cell": false,
   "toc_position": {},
   "toc_section_display": true,
   "toc_window_display": false
  }
 },
 "nbformat": 4,
 "nbformat_minor": 5
}
