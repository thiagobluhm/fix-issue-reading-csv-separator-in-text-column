{
 "cells": [
  {
   "cell_type": "code",
   "execution_count": 1,
   "id": "ea8b8391",
   "metadata": {
    "ExecuteTime": {
     "end_time": "2023-06-29T01:24:40.628193Z",
     "start_time": "2023-06-29T01:24:40.137679Z"
    }
   },
   "outputs": [],
   "source": [
    "import pandas as pd\n",
    "import os\n",
    "\n",
    "os.chdir(r\"****\\****\\fix-issue-reading-csv-separator-in-text-column\\data\")"
   ]
  },
  {
   "cell_type": "code",
   "execution_count": 2,
   "id": "c36706c0",
   "metadata": {
    "ExecuteTime": {
     "end_time": "2023-06-29T01:24:44.939027Z",
     "start_time": "2023-06-29T01:24:44.922497Z"
    }
   },
   "outputs": [],
   "source": [
    "df = pd.read_csv(\"test_reading_plan.txt\", encoding=\"latin1\", skiprows=1, sep=\"\\t\", engine=\"python\", on_bad_lines='skip')"
   ]
  },
  {
   "cell_type": "code",
   "execution_count": 3,
   "id": "67e6b952",
   "metadata": {
    "ExecuteTime": {
     "end_time": "2023-06-29T01:24:47.193812Z",
     "start_time": "2023-06-29T01:24:47.173292Z"
    }
   },
   "outputs": [
    {
     "data": {
      "text/html": [
       "<div>\n",
       "<style scoped>\n",
       "    .dataframe tbody tr th:only-of-type {\n",
       "        vertical-align: middle;\n",
       "    }\n",
       "\n",
       "    .dataframe tbody tr th {\n",
       "        vertical-align: top;\n",
       "    }\n",
       "\n",
       "    .dataframe thead th {\n",
       "        text-align: right;\n",
       "    }\n",
       "</style>\n",
       "<table border=\"1\" class=\"dataframe\">\n",
       "  <thead>\n",
       "    <tr style=\"text-align: right;\">\n",
       "      <th></th>\n",
       "      <th>ID;SOL_ATENC;NO_ATENC;ID_PERSONA;F_ATENC;ID_SUBSEDE;ID_ATENC_PREFER;ID_SOLICITUD;COMENTARIO;ID_ESTADO;ID_TP_CATEG_ATENC;OUTRA_CAT_ATENC;N_MOD</th>\n",
       "    </tr>\n",
       "  </thead>\n",
       "  <tbody>\n",
       "    <tr>\n",
       "      <th>0</th>\n",
       "      <td>28457;Turno;XD330;10;20-04-2023 17:44:19;2;;;E...</td>\n",
       "    </tr>\n",
       "    <tr>\n",
       "      <th>1</th>\n",
       "      <td>28458;Turno;XD331;10;20-04-2023 17:44:19;2;;;E...</td>\n",
       "    </tr>\n",
       "    <tr>\n",
       "      <th>2</th>\n",
       "      <td>28459;Turno;XD332;10;20-04-2023 17:44:19;2;;;E...</td>\n",
       "    </tr>\n",
       "  </tbody>\n",
       "</table>\n",
       "</div>"
      ],
      "text/plain": [
       "  ID;SOL_ATENC;NO_ATENC;ID_PERSONA;F_ATENC;ID_SUBSEDE;ID_ATENC_PREFER;ID_SOLICITUD;COMENTARIO;ID_ESTADO;ID_TP_CATEG_ATENC;OUTRA_CAT_ATENC;N_MOD\n",
       "0  28457;Turno;XD330;10;20-04-2023 17:44:19;2;;;E...                                                                                           \n",
       "1  28458;Turno;XD331;10;20-04-2023 17:44:19;2;;;E...                                                                                           \n",
       "2  28459;Turno;XD332;10;20-04-2023 17:44:19;2;;;E...                                                                                           "
      ]
     },
     "execution_count": 3,
     "metadata": {},
     "output_type": "execute_result"
    }
   ],
   "source": [
    "df.head(3)"
   ]
  },
  {
   "cell_type": "code",
   "execution_count": 4,
   "id": "0574bb50",
   "metadata": {
    "ExecuteTime": {
     "end_time": "2023-06-29T01:24:51.746250Z",
     "start_time": "2023-06-29T01:24:51.739248Z"
    }
   },
   "outputs": [],
   "source": [
    "lista = []\n",
    "for x in range(len(df)):\n",
    "    # o indice 9 se o tamanho lido for maior que o tam_ideal é onde comeca a anomalia\n",
    "    ind_registro = 9 \n",
    "    # para o arquivo lido o tam de colunas é 13\n",
    "    tam_ideal = 13\n",
    "    # aqui eu tenho quantas colunas foram lidas na real\n",
    "    tam_lido = len(df.iloc[x].values[0].split(\";\"))\n",
    "    \n",
    "    # entao se o tamanho lido for maior que o ideal temos o problema\n",
    "    if tam_lido > tam_ideal:\n",
    "        #print(f\"Tamanho lido: {tam_lido}\")\n",
    "        # percebo qual o tamanho do problema aqui, se é 2, 3, 4 ... \n",
    "        diff = tam_lido - tam_ideal\n",
    "        \n",
    "        # pego o valor da minha como lista\n",
    "        linha = df.iloc[x].values[0].split(\";\")\n",
    "        \n",
    "        # faco um loop com o range da diferenca entre o tam_lido e o tam_ideal\n",
    "        for d in range(diff):\n",
    "            #print(f\"Indice do Pop: {ind_registro + d}\")            \n",
    "            # apago o indice da lista referente a leitura a partir do indice 9, pois o ideal é que a coluna \n",
    "            # comentario esteja no 8, entao apago do 9 quantas vezes for maior que o tam_ideal\n",
    "            linha.pop(ind_registro)        \n",
    "            \n",
    "            # registro a linha que vai para lista final\n",
    "            alinha = linha\n",
    "        #print(f\"Linha impressa: {alinha}\")\n",
    "        # apenso o valor a lista e done!\n",
    "        lista.append(alinha)\n",
    "    else:\n",
    "        b = df.iloc[x].values[0].split(\";\")\n",
    "        lista.append(b)   "
   ]
  },
  {
   "cell_type": "code",
   "execution_count": 5,
   "id": "7bb551e9",
   "metadata": {
    "ExecuteTime": {
     "end_time": "2023-06-29T01:24:55.149143Z",
     "start_time": "2023-06-29T01:24:55.137704Z"
    }
   },
   "outputs": [
    {
     "name": "stdout",
     "output_type": "stream",
     "text": [
      "3 1\n"
     ]
    }
   ],
   "source": [
    "print(len(df), len(df.columns))"
   ]
  },
  {
   "cell_type": "code",
   "execution_count": 12,
   "id": "0a3a84fe",
   "metadata": {
    "ExecuteTime": {
     "end_time": "2023-06-29T16:44:21.237130Z",
     "start_time": "2023-06-29T16:44:21.223131Z"
    }
   },
   "outputs": [],
   "source": [
    "dff = pd.DataFrame(lista)\n",
    "dff.sample()"
   ]
  },
  {
   "cell_type": "code",
   "execution_count": 12,
   "id": "991651b5",
   "metadata": {
    "ExecuteTime": {
     "end_time": "2023-06-29T00:53:16.428991Z",
     "start_time": "2023-06-29T00:53:16.415731Z"
    }
   },
   "outputs": [
    {
     "name": "stdout",
     "output_type": "stream",
     "text": [
      "367522 13\n"
     ]
    }
   ],
   "source": [
    "print(len(dff), len(dff.columns))"
   ]
  },
  {
   "cell_type": "code",
   "execution_count": 13,
   "id": "2de1479e",
   "metadata": {
    "ExecuteTime": {
     "end_time": "2023-06-29T00:53:33.740360Z",
     "start_time": "2023-06-29T00:53:33.734765Z"
    }
   },
   "outputs": [],
   "source": [
    "#EOF"
   ]
  }
 ],
 "metadata": {
  "kernelspec": {
   "display_name": "PySpark (kernel)",
   "language": "python",
   "name": "pyspark"
  },
  "language_info": {
   "codemirror_mode": {
    "name": "ipython",
    "version": 3
   },
   "file_extension": ".py",
   "mimetype": "text/x-python",
   "name": "python",
   "nbconvert_exporter": "python",
   "pygments_lexer": "ipython3",
   "version": "3.9.13"
  },
  "toc": {
   "base_numbering": 1,
   "nav_menu": {},
   "number_sections": true,
   "sideBar": false,
   "skip_h1_title": false,
   "title_cell": "Table of Contents",
   "title_sidebar": "Contents",
   "toc_cell": false,
   "toc_position": {},
   "toc_section_display": true,
   "toc_window_display": false
  }
 },
 "nbformat": 4,
 "nbformat_minor": 5
}
